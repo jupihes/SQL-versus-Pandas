{
 "cells": [
  {
   "cell_type": "markdown",
   "metadata": {},
   "source": [
    "# Cheatsheet on \"How to use Pandas for SQL-like actions\"\n",
    "\n",
    "\n",
    "I try to summerize and compare SQL and how to do similar action in Pandas\n",
    "My assumption is you know how to have your data as table in Pandas.\n",
    "\n",
    "### How to read your data as Pandas dataframe?\n",
    "if you do not, read Pandas documentation on how to do so at [Pandas](https://www.pandas.org)\n",
    "following possibilities are avaiable\n",
    "\n",
    "1. csv\n",
    "2. excel\n",
    "3. db connection"
   ]
  },
  {
   "cell_type": "markdown",
   "metadata": {},
   "source": [
    "| SQL Sample| Pandas Sample |\n",
    "| :---        |    :----:   |          ---: |\n",
    "| `select * `<br>`from table` |`df.head()`  |\n",
    "| `select c1, c2,c10 `<br>`from table` |`df[[c1, c2,c10]]`  |\n",
    "| `select c10, c2, c1 `<br>`from table` |`df[[c10, c1, c2]]`  |\n",
    "| `select c10, c2*12 - c1 + c6 `<br>`from table` |`df['new c'] = df.c2*12 - df.c1 + df.c6`<br>`df[[c10,'new c']]`<br> <br> or <br> <br>`df.assign(df.c10, new_c = df.c2*12 - df.c1 + df.c6)`|\n",
    "| ` SELECT total_bill, tip, smoker, time`<br>`FROM tips`<br>`LIMIT 5`| `tips[['total_bill', 'tip', 'smoker','time']].head(5)` |\n",
    "||| \n",
    "| ||\n",
    "|temp ||\n",
    "| | |\n",
    "||ta|"
   ]
  },
  {
   "cell_type": "code",
   "execution_count": null,
   "metadata": {
    "collapsed": true
   },
   "outputs": [],
   "source": []
  }
 ],
 "metadata": {
  "kernelspec": {
   "display_name": "Python 3",
   "language": "python",
   "name": "python3"
  },
  "language_info": {
   "codemirror_mode": {
    "name": "ipython",
    "version": 3
   },
   "file_extension": ".py",
   "mimetype": "text/x-python",
   "name": "python",
   "nbconvert_exporter": "python",
   "pygments_lexer": "ipython3",
   "version": "3.6.3"
  }
 },
 "nbformat": 4,
 "nbformat_minor": 2
}
