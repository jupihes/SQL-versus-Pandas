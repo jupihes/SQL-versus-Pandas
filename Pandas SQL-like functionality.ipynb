{
 "cells": [
  {
   "cell_type": "markdown",
   "metadata": {},
   "source": [
    "# Cheatsheet on \"How to use Pandas for SQL-like actions\"\n",
    "\n",
    "\n",
    "I try to summerize and compare [SQL](https://en.wikipedia.org/wiki/SQL) and how to do similar action in [Pandas](https://pandas.pydata.org/).<br>\n",
    "My assumption is you know how to have your data as table in Pandas.\n",
    "\n",
    "### How to read your data as Pandas dataframe?\n",
    "If you do not, read Pandas documentation on how to do so at [Pandas](https://www.pandas.org)\n",
    "following possibilities are avaiable\n",
    "[IO Tools (CSV, EXCEL,DB connection …)](https://pandas.pydata.org/pandas-docs/stable/user_guide/io.html)\n",
    "\n",
    "1. csv\n",
    "2. excel\n",
    "3. db connection\n",
    "\n",
    "it is based on [link](https://pandas.pydata.org/pandas-docs/stable/getting_started/comparison/comparison_with_sql.html) trying to explain things more simple."
   ]
  },
  {
   "cell_type": "markdown",
   "metadata": {},
   "source": [
    "## 1. Simple selection"
   ]
  },
  {
   "cell_type": "markdown",
   "metadata": {},
   "source": [
    "| SQL Sample| Pandas Sample |\n",
    "| :---:        |    :----:   |          :---: |\n",
    "| `select * `<br>`from table` |`df.head()`  |\n",
    "| `select c1, c2,c10 `<br>`from table` |`df[[c1, c2,c10]]`  |\n",
    "| `select c10, c2, c1 `<br>`from table` |`df[[c10, c1, c2]]`  |\n",
    "| `select c10, c2*12 - c1 + c6 `<br>`from table` |`df['new c'] = df.c2*12 - df.c1 + df.c6`<br>`df[[c10,'new c']]`<br> <br> or <br> <br>`df.assign(df.c10, new_c = df.c2*12 - df.c1 + df.c6)`|\n",
    "| ` SELECT total_bill, tip, smoker, time`<br>`FROM tips`<br>`LIMIT 5`| `tips[['total_bill', 'tip', 'smoker','time']].head(5)` |\n",
    "| ` SELECT total_bill, tip, smoker, time`<br>`FROM tips`<br>`Order by time desc`| `tips[['total_bill', 'tip', 'smoker','time']] ???` |\n"
   ]
  },
  {
   "cell_type": "markdown",
   "metadata": {},
   "source": [
    "## 2. Conditioning at WHERE"
   ]
  },
  {
   "cell_type": "markdown",
   "metadata": {},
   "source": [
    "|Experession| SQL Sample| Pandas Sample |\n",
    "| :---:        |    :----:   |          :---: |\n",
    "|-| `SELECT *`<br>`FROM tips`<br>`WHERE time = 'Dinner'`<br>`LIMIT 5`|`tips[tips['time'] == 'Dinner'].head(5)`<br> or<br>`is_dinner = tips['time'] == 'Dinner'`<br>`tips[is_dinner].head(5)`|\n",
    "|AND|`SELECT *`<br>`FROM tips`<br>`WHERE time = 'Dinner' AND tip > 5.00`|`tips[(tips['time'] == 'Dinner') & (tips['tip'] > 5.00)]`|\n",
    "|OR|`SELECT *`<br>`FROM tips`<br>`WHERE size >= 5 OR total_bill > 45`|`tips[(tips['size'] >= 5') & (tips['total_bill'] > 45)]`|\n",
    "|IS NULL|`SELECT *`<br>`FROM t`<br>`WHERE col2 IS NULL`|`t[t['col2'].isna()]`|\n",
    "|IS NOT NULL|`SELECT *`<br>`FROM t`<br>`WHERE col IS NOT NULL`|`t[t['col2'].notna()]`|"
   ]
  },
  {
   "cell_type": "code",
   "execution_count": null,
   "metadata": {},
   "outputs": [],
   "source": []
  },
  {
   "cell_type": "markdown",
   "metadata": {},
   "source": [
    "| SQL Sample| Pandas Sample |\n",
    "| :---:        |    :----:   |          :---: |\n",
    "| ` SELECT *`<br>`FROM tips`<br>`ORDER BY tip DESC`<br>`LIMIT 10 OFFSET 5`| `tips.nlargest(10 + 5, columns='tip').tail(10)` |\n",
    "| ` SELECT total_bill, tip, smoker, time`<br>`FROM tips`<br>`ORDER BY tip DESC`<br>`LIMIT 10 OFFSET 5`| `tips[['total_bill', 'tip', 'smoker','time']] tips.nlargest(10 + 5, columns='tip').tail(10)???` |\n",
    "\n",
    "\n"
   ]
  },
  {
   "cell_type": "markdown",
   "metadata": {},
   "source": [
    "##### Oracle's ROW_NUMBER() analytic function"
   ]
  },
  {
   "cell_type": "markdown",
   "metadata": {},
   "source": [
    "| SQL Sample| Pandas Sample |\n",
    "| :---:        |    :----:   |          :---: |\n",
    "| `SELECT * FROM (`<br>`SELECT t.*,`<br>`ROW_NUMBER() OVER(PARTITION BY day ORDER BY total_bill DESC) AS r`<br>`FROM tips t`<br>`)`<br>`WHERE r < 3`<br>`ORDER BY day, r;`|`(tips.assign(r=tips.sort_values(['total_bill'],ascending=False)`<br>`.groupby(['day'])`<br>`.cumcount()+1)`<br>`.query('r < 3')`<br>`.sort_values(['day', 'r']))` |\n",
    "\n",
    "\n",
    "\n"
   ]
  },
  {
   "cell_type": "code",
   "execution_count": null,
   "metadata": {
    "collapsed": true
   },
   "outputs": [],
   "source": []
  }
 ],
 "metadata": {
  "kernelspec": {
   "display_name": "Python 3",
   "language": "python",
   "name": "python3"
  },
  "language_info": {
   "codemirror_mode": {
    "name": "ipython",
    "version": 3
   },
   "file_extension": ".py",
   "mimetype": "text/x-python",
   "name": "python",
   "nbconvert_exporter": "python",
   "pygments_lexer": "ipython3",
   "version": "3.6.3"
  }
 },
 "nbformat": 4,
 "nbformat_minor": 2
}
